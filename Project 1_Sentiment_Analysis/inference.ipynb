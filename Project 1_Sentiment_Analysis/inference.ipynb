{
 "cells": [
  {
   "cell_type": "code",
   "execution_count": 1,
   "metadata": {},
   "outputs": [],
   "source": [
    "import tqdm\n",
    "import pandas as pd\n",
    "import torch\n",
    "import torch.nn as nn\n",
    "from transformers import BertTokenizer, BertModel\n",
    "from prettytable import PrettyTable"
   ]
  },
  {
   "cell_type": "markdown",
   "metadata": {},
   "source": [
    "### Load Data"
   ]
  },
  {
   "cell_type": "code",
   "execution_count": 2,
   "metadata": {},
   "outputs": [
    {
     "name": "stdout",
     "output_type": "stream",
     "text": [
      "select [id, text, label] columns from the valid split\n",
      "Success\n",
      "select [id, text] columns from the test_no_label split\n",
      "Success\n"
     ]
    }
   ],
   "source": [
    "def load_data(split_name='train', columns=['text', 'label'], folder='data'):\n",
    "    try:\n",
    "        print(f\"select [{', '.join(columns)}] columns from the {split_name} split\")\n",
    "        df = pd.read_csv(f'{folder}/{split_name}.csv')\n",
    "        df = df.loc[:,columns]\n",
    "        print(\"Success\")\n",
    "        return df\n",
    "    except:\n",
    "        print(f\"Failed loading specified columns... Returning all columns from the {split_name} split\")\n",
    "        df = pd.read_csv(f'{folder}/{split_name}.csv')\n",
    "        return df\n",
    "\n",
    "valid_df = load_data('valid', columns=['id','text', 'label'], folder='data')\n",
    "test_df = load_data('test_no_label', columns=['id', 'text'], folder='data')"
   ]
  },
  {
   "cell_type": "markdown",
   "metadata": {},
   "source": [
    "### Prepare and Load Model from checkpoint"
   ]
  },
  {
   "cell_type": "code",
   "execution_count": 3,
   "metadata": {},
   "outputs": [],
   "source": [
    "class SAM(nn.Module):\n",
    "    def __init__(self, class_num, device):\n",
    "        super(SAM, self).__init__()\n",
    "        self.class_num = class_num\n",
    "        self.max_len = 256\n",
    "        self.tokenizer = BertTokenizer.from_pretrained('bert-base-uncased')\n",
    "        self.pretrained_model = BertModel.from_pretrained(\"bert-base-uncased\", return_dict=True)\n",
    "        self.linear = nn.Linear(768, self.class_num, bias=True)\n",
    "        self.loss_fnc = nn.CrossEntropyLoss()\n",
    "        self.device = device\n",
    "        \n",
    "    def load_checkpoint(self, checkpoint_path=None):\n",
    "        if(checkpoint_path):\n",
    "            checkpoint = torch.load(checkpoint_path)\n",
    "            self.load_state_dict(checkpoint['model'])\n",
    "            print('model checkpoint loaded')\n",
    "        \n",
    "    def forward(self, samples):\n",
    "        output = self.pretrained_model(samples['input_ids'].to(self.device, dtype=torch.long),\n",
    "                                      samples['attention_mask'].to(self.device, dtype=torch.long),\n",
    "                                      samples['token_type_ids'].to(self.device, dtype=torch.long))\n",
    "        logits = self.linear(output.BaseModelOutputWithPoolingAndCrossAttentions.pooler_output)\n",
    "        loss = self.loss_fnc(logits, samples['labels'].to(self.device, dtype=torch.float))\n",
    "        return {'logits':logits, 'loss':loss}\n",
    "\n",
    "    def predict(self, text):\n",
    "        inputs = self.tokenizer.encode_plus(text,\n",
    "                                            add_special_tokens=True,\n",
    "                                            max_length=self.max_len,\n",
    "                                            padding='max_length', \n",
    "                                            truncation=True,\n",
    "                                            return_attention_mask=True,\n",
    "                                            return_tensors='pt')\n",
    "        with torch.no_grad():\n",
    "            output = self.pretrained_model(inputs['input_ids'].flatten().unsqueeze(0).to(self.device, dtype=torch.long),\n",
    "                                  inputs['attention_mask'].flatten().unsqueeze(0).to(self.device, dtype=torch.long),\n",
    "                                  inputs['token_type_ids'].flatten().unsqueeze(0).to(self.device, dtype=torch.long)).pooler_output\n",
    "        logits = self.linear(output)\n",
    "        label = logits[0].softmax(0).argmax() + 1\n",
    "        return {'label': label}\n",
    "    \n",
    "def count_trainable_parameters(model):\n",
    "    table = PrettyTable([\"Modules\", \"Parameters\"])\n",
    "    total_params = 0\n",
    "    for name, parameter in model.named_parameters():\n",
    "        if not parameter.requires_grad:\n",
    "            continue\n",
    "        params = parameter.numel()\n",
    "        table.add_row([name, params])\n",
    "        total_params += params\n",
    "    print(table)\n",
    "    print(f\"Total Trainable Params: {total_params}\")\n",
    "    return total_params"
   ]
  },
  {
   "cell_type": "code",
   "execution_count": 4,
   "metadata": {},
   "outputs": [
    {
     "name": "stdout",
     "output_type": "stream",
     "text": [
      "model checkpoint loaded\n"
     ]
    }
   ],
   "source": [
    "device = torch.device('cuda' if torch.cuda.is_available() else 'cpu')    \n",
    "model = SAM(class_num=5, device=device)\n",
    "model.to(device)\n",
    "model.load_checkpoint(checkpoint_path=\"finetune_bert_linear_checkpoint.pth\")"
   ]
  },
  {
   "cell_type": "markdown",
   "metadata": {},
   "source": [
    "### Validation Set Predictions"
   ]
  },
  {
   "cell_type": "code",
   "execution_count": 5,
   "metadata": {},
   "outputs": [
    {
     "name": "stderr",
     "output_type": "stream",
     "text": [
      "2000it [01:16, 26.30it/s]\n"
     ]
    }
   ],
   "source": [
    "val_data=[]\n",
    "for index, row in enumerate(tqdm.tqdm(valid_df.iterrows())):\n",
    "  predict = model.predict(text=row[1]['text'])\n",
    "  val_data.append({'id': row[1]['id'], 'label': predict['label'].cpu().numpy(),})"
   ]
  },
  {
   "cell_type": "code",
   "execution_count": 6,
   "metadata": {},
   "outputs": [
    {
     "data": {
      "text/html": [
       "<div>\n",
       "<style scoped>\n",
       "    .dataframe tbody tr th:only-of-type {\n",
       "        vertical-align: middle;\n",
       "    }\n",
       "\n",
       "    .dataframe tbody tr th {\n",
       "        vertical-align: top;\n",
       "    }\n",
       "\n",
       "    .dataframe thead th {\n",
       "        text-align: right;\n",
       "    }\n",
       "</style>\n",
       "<table border=\"1\" class=\"dataframe\">\n",
       "  <thead>\n",
       "    <tr style=\"text-align: right;\">\n",
       "      <th></th>\n",
       "      <th>id</th>\n",
       "      <th>label</th>\n",
       "    </tr>\n",
       "  </thead>\n",
       "  <tbody>\n",
       "    <tr>\n",
       "      <th>0</th>\n",
       "      <td>A29WNXUH97IH13_6848</td>\n",
       "      <td>3</td>\n",
       "    </tr>\n",
       "    <tr>\n",
       "      <th>1</th>\n",
       "      <td>A1FV0HOXQA87O8_10874</td>\n",
       "      <td>4</td>\n",
       "    </tr>\n",
       "    <tr>\n",
       "      <th>2</th>\n",
       "      <td>A3XZ7FSPXP9S4_745</td>\n",
       "      <td>4</td>\n",
       "    </tr>\n",
       "    <tr>\n",
       "      <th>3</th>\n",
       "      <td>A2W2O4WH9VZCXQ_15439</td>\n",
       "      <td>5</td>\n",
       "    </tr>\n",
       "    <tr>\n",
       "      <th>4</th>\n",
       "      <td>A24Y7A0B20RWT9_23351</td>\n",
       "      <td>4</td>\n",
       "    </tr>\n",
       "  </tbody>\n",
       "</table>\n",
       "</div>"
      ],
      "text/plain": [
       "                     id label\n",
       "0   A29WNXUH97IH13_6848     3\n",
       "1  A1FV0HOXQA87O8_10874     4\n",
       "2     A3XZ7FSPXP9S4_745     4\n",
       "3  A2W2O4WH9VZCXQ_15439     5\n",
       "4  A24Y7A0B20RWT9_23351     4"
      ]
     },
     "execution_count": 6,
     "metadata": {},
     "output_type": "execute_result"
    }
   ],
   "source": [
    "valid_pred = pd.DataFrame(val_data)\n",
    "valid_pred.head()"
   ]
  },
  {
   "cell_type": "code",
   "execution_count": 7,
   "metadata": {},
   "outputs": [],
   "source": [
    "valid_pred.to_csv(f'data/valid_pred.csv', index=False)"
   ]
  },
  {
   "cell_type": "markdown",
   "metadata": {},
   "source": [
    "### Test Set Predictions"
   ]
  },
  {
   "cell_type": "code",
   "execution_count": 8,
   "metadata": {},
   "outputs": [
    {
     "name": "stderr",
     "output_type": "stream",
     "text": [
      "4000it [02:28, 26.90it/s]\n"
     ]
    }
   ],
   "source": [
    "test_data=[]\n",
    "for index, row in enumerate(tqdm.tqdm(test_df.iterrows())):\n",
    "  predict = model.predict(text=row[1]['text'])\n",
    "  test_data.append({'id': row[1]['id'], 'label': predict['label'].cpu().numpy(),})"
   ]
  },
  {
   "cell_type": "code",
   "execution_count": 9,
   "metadata": {},
   "outputs": [
    {
     "data": {
      "text/html": [
       "<div>\n",
       "<style scoped>\n",
       "    .dataframe tbody tr th:only-of-type {\n",
       "        vertical-align: middle;\n",
       "    }\n",
       "\n",
       "    .dataframe tbody tr th {\n",
       "        vertical-align: top;\n",
       "    }\n",
       "\n",
       "    .dataframe thead th {\n",
       "        text-align: right;\n",
       "    }\n",
       "</style>\n",
       "<table border=\"1\" class=\"dataframe\">\n",
       "  <thead>\n",
       "    <tr style=\"text-align: right;\">\n",
       "      <th></th>\n",
       "      <th>id</th>\n",
       "      <th>label</th>\n",
       "    </tr>\n",
       "  </thead>\n",
       "  <tbody>\n",
       "    <tr>\n",
       "      <th>0</th>\n",
       "      <td>A3EMGD8RAEOK64_2907</td>\n",
       "      <td>3</td>\n",
       "    </tr>\n",
       "    <tr>\n",
       "      <th>1</th>\n",
       "      <td>A2BOWU2PX28BET_5501</td>\n",
       "      <td>5</td>\n",
       "    </tr>\n",
       "    <tr>\n",
       "      <th>2</th>\n",
       "      <td>A100WO06OQR8BQ_10469</td>\n",
       "      <td>1</td>\n",
       "    </tr>\n",
       "    <tr>\n",
       "      <th>3</th>\n",
       "      <td>A2H4LKU7CPIUU9_11364</td>\n",
       "      <td>1</td>\n",
       "    </tr>\n",
       "    <tr>\n",
       "      <th>4</th>\n",
       "      <td>A14RF11JYGDKI8_23751</td>\n",
       "      <td>3</td>\n",
       "    </tr>\n",
       "  </tbody>\n",
       "</table>\n",
       "</div>"
      ],
      "text/plain": [
       "                     id label\n",
       "0   A3EMGD8RAEOK64_2907     3\n",
       "1   A2BOWU2PX28BET_5501     5\n",
       "2  A100WO06OQR8BQ_10469     1\n",
       "3  A2H4LKU7CPIUU9_11364     1\n",
       "4  A14RF11JYGDKI8_23751     3"
      ]
     },
     "execution_count": 9,
     "metadata": {},
     "output_type": "execute_result"
    }
   ],
   "source": [
    "test_pred = pd.DataFrame(test_data)\n",
    "test_pred.head()"
   ]
  },
  {
   "cell_type": "code",
   "execution_count": 10,
   "metadata": {},
   "outputs": [],
   "source": [
    "test_pred.to_csv(f'data/pred.csv', index=False)"
   ]
  }
 ],
 "metadata": {
  "kernelspec": {
   "display_name": "Python 3",
   "language": "python",
   "name": "python3"
  },
  "language_info": {
   "codemirror_mode": {
    "name": "ipython",
    "version": 3
   },
   "file_extension": ".py",
   "mimetype": "text/x-python",
   "name": "python",
   "nbconvert_exporter": "python",
   "pygments_lexer": "ipython3",
   "version": "3.12.2"
  }
 },
 "nbformat": 4,
 "nbformat_minor": 2
}
